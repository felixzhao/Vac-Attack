{
 "cells": [
  {
   "cell_type": "code",
   "execution_count": 3,
   "metadata": {
    "collapsed": true
   },
   "outputs": [],
   "source": [
    "import numpy as np\n",
    "import pandas as pd"
   ]
  },
  {
   "cell_type": "code",
   "execution_count": 17,
   "outputs": [
    {
     "name": "stdout",
     "output_type": "stream",
     "text": [
      "<class 'list'>\n"
     ]
    },
    {
     "data": {
      "text/plain": "['Date',\n 'PositiveNews',\n 'NegativeCoverage',\n 'Competition',\n 'AdvertisingSpend',\n 'Month',\n 'Day',\n '0508Line_247',\n 'UltraEdition_Available',\n 'COVID_Lockdown',\n 'Sales']"
     },
     "execution_count": 17,
     "metadata": {},
     "output_type": "execute_result"
    }
   ],
   "source": [
    "marketing_cols = pd.read_csv(\"../data/source/MarketingCols.csv\", header=None)\n",
    "m_cols = [x[0] for x in marketing_cols.to_numpy().tolist()]\n",
    "print(type(m_cols))\n",
    "m_cols"
   ],
   "metadata": {
    "collapsed": false
   }
  },
  {
   "cell_type": "code",
   "execution_count": 19,
   "outputs": [
    {
     "data": {
      "text/plain": "      Date  PositiveNews  NegativeCoverage  Competition  AdvertisingSpend  \\\n0  1/01/16             0                 0            0           4199.86   \n1  2/01/16             0                 0            0          14768.20   \n\n     Month       Day  0508Line_247  UltraEdition_Available  COVID_Lockdown  \\\n0  January    Friday             1                       0               0   \n1  January  Saturday             1                       0               0   \n\n   Sales  \n0     66  \n1     84  ",
      "text/html": "<div>\n<style scoped>\n    .dataframe tbody tr th:only-of-type {\n        vertical-align: middle;\n    }\n\n    .dataframe tbody tr th {\n        vertical-align: top;\n    }\n\n    .dataframe thead th {\n        text-align: right;\n    }\n</style>\n<table border=\"1\" class=\"dataframe\">\n  <thead>\n    <tr style=\"text-align: right;\">\n      <th></th>\n      <th>Date</th>\n      <th>PositiveNews</th>\n      <th>NegativeCoverage</th>\n      <th>Competition</th>\n      <th>AdvertisingSpend</th>\n      <th>Month</th>\n      <th>Day</th>\n      <th>0508Line_247</th>\n      <th>UltraEdition_Available</th>\n      <th>COVID_Lockdown</th>\n      <th>Sales</th>\n    </tr>\n  </thead>\n  <tbody>\n    <tr>\n      <th>0</th>\n      <td>1/01/16</td>\n      <td>0</td>\n      <td>0</td>\n      <td>0</td>\n      <td>4199.86</td>\n      <td>January</td>\n      <td>Friday</td>\n      <td>1</td>\n      <td>0</td>\n      <td>0</td>\n      <td>66</td>\n    </tr>\n    <tr>\n      <th>1</th>\n      <td>2/01/16</td>\n      <td>0</td>\n      <td>0</td>\n      <td>0</td>\n      <td>14768.20</td>\n      <td>January</td>\n      <td>Saturday</td>\n      <td>1</td>\n      <td>0</td>\n      <td>0</td>\n      <td>84</td>\n    </tr>\n  </tbody>\n</table>\n</div>"
     },
     "execution_count": 19,
     "metadata": {},
     "output_type": "execute_result"
    }
   ],
   "source": [
    "marketing_sales = pd.read_csv(\"../data/source/MarketingSales.csv\", header=None, names=m_cols)\n",
    "marketing_sales.head(2)"
   ],
   "metadata": {
    "collapsed": false
   }
  },
  {
   "cell_type": "code",
   "execution_count": 20,
   "outputs": [],
   "source": [
    "marketing_sales.to_csv(path_or_buf=\"../data/raw/marketing_sales.csv\",index=False)"
   ],
   "metadata": {
    "collapsed": false
   }
  },
  {
   "cell_type": "markdown",
   "source": [
    "save dec"
   ],
   "metadata": {
    "collapsed": false
   }
  },
  {
   "cell_type": "code",
   "execution_count": 22,
   "outputs": [
    {
     "data": {
      "text/plain": "['Date', 'AdvertisingSpend', 'Month', 'Day']"
     },
     "execution_count": 22,
     "metadata": {},
     "output_type": "execute_result"
    }
   ],
   "source": [
    "dec_cols = pd.read_csv(\"../data/source/DecemberCols.csv\", header=None)\n",
    "d_cols = [x[0] for x in dec_cols.to_numpy().tolist()]\n",
    "d_cols"
   ],
   "metadata": {
    "collapsed": false
   }
  },
  {
   "cell_type": "code",
   "execution_count": 24,
   "outputs": [
    {
     "data": {
      "text/plain": "      Date  AdvertisingSpend     Month        Day\n0  1/12/20          10568.28  December    Tuesday\n1  2/12/20           8218.31  December  Wednesday",
      "text/html": "<div>\n<style scoped>\n    .dataframe tbody tr th:only-of-type {\n        vertical-align: middle;\n    }\n\n    .dataframe tbody tr th {\n        vertical-align: top;\n    }\n\n    .dataframe thead th {\n        text-align: right;\n    }\n</style>\n<table border=\"1\" class=\"dataframe\">\n  <thead>\n    <tr style=\"text-align: right;\">\n      <th></th>\n      <th>Date</th>\n      <th>AdvertisingSpend</th>\n      <th>Month</th>\n      <th>Day</th>\n    </tr>\n  </thead>\n  <tbody>\n    <tr>\n      <th>0</th>\n      <td>1/12/20</td>\n      <td>10568.28</td>\n      <td>December</td>\n      <td>Tuesday</td>\n    </tr>\n    <tr>\n      <th>1</th>\n      <td>2/12/20</td>\n      <td>8218.31</td>\n      <td>December</td>\n      <td>Wednesday</td>\n    </tr>\n  </tbody>\n</table>\n</div>"
     },
     "execution_count": 24,
     "metadata": {},
     "output_type": "execute_result"
    }
   ],
   "source": [
    "december_ad = pd.read_csv(\"../data/source/DecemberAdData.csv\", header=None, names=d_cols)\n",
    "december_ad.head(2)"
   ],
   "metadata": {
    "collapsed": false
   }
  },
  {
   "cell_type": "code",
   "execution_count": 25,
   "outputs": [],
   "source": [
    "december_ad.to_csv(path_or_buf=\"../data/raw/december_ad.csv\",index=False)"
   ],
   "metadata": {
    "collapsed": false
   }
  },
  {
   "cell_type": "code",
   "execution_count": null,
   "outputs": [],
   "source": [],
   "metadata": {
    "collapsed": false
   }
  }
 ],
 "metadata": {
  "kernelspec": {
   "display_name": "Python 3",
   "language": "python",
   "name": "python3"
  },
  "language_info": {
   "codemirror_mode": {
    "name": "ipython",
    "version": 2
   },
   "file_extension": ".py",
   "mimetype": "text/x-python",
   "name": "python",
   "nbconvert_exporter": "python",
   "pygments_lexer": "ipython2",
   "version": "2.7.6"
  }
 },
 "nbformat": 4,
 "nbformat_minor": 0
}
